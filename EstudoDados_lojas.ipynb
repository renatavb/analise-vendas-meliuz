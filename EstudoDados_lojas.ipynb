{
  "nbformat": 4,
  "nbformat_minor": 0,
  "metadata": {
    "colab": {
      "name": "EstudoDados-lojas",
      "provenance": [],
      "collapsed_sections": [
        "qTmLBxDxBAZL"
      ],
      "include_colab_link": true
    },
    "kernelspec": {
      "display_name": "Python 3",
      "name": "python3"
    }
  },
  "cells": [
    {
      "cell_type": "markdown",
      "metadata": {
        "id": "view-in-github",
        "colab_type": "text"
      },
      "source": [
        "<a href=\"https://colab.research.google.com/github/renatavb/analise-vendas-meliuz/blob/main/EstudoDados_lojas.ipynb\" target=\"_parent\"><img src=\"https://colab.research.google.com/assets/colab-badge.svg\" alt=\"Open In Colab\"/></a>"
      ]
    },
    {
      "cell_type": "code",
      "metadata": {
        "id": "dWf7KIxjKtA0",
        "colab": {
          "base_uri": "https://localhost:8080/",
          "height": 432
        },
        "outputId": "5a313e0e-a8b9-4e59-e120-6cd198d47e53"
      },
      "source": [
        "df = pandas_gbq.read_gbq('''\n",
        "  SELECT\n",
        "  *\n",
        "  FROM `meliuz-data-ingestion.teste_estagio_meliuz.dados`\n",
        "''')\n",
        "\n",
        "display(df.head(10))\n",
        "\n",
        "print(\"\\n\\n Número de linhas: {}\".format(len(df)))\n"
      ],
      "execution_count": 3,
      "outputs": [
        {
          "output_type": "stream",
          "name": "stderr",
          "text": [
            "Downloading: 100%|██████████| 33295/33295 [00:02<00:00, 14723.42rows/s]\n"
          ]
        },
        {
          "output_type": "display_data",
          "data": {
            "text/html": [
              "\n",
              "  <div id=\"df-1475e1af-e4cd-4193-9a11-5064a821e4ed\">\n",
              "    <div class=\"colab-df-container\">\n",
              "      <div>\n",
              "<style scoped>\n",
              "    .dataframe tbody tr th:only-of-type {\n",
              "        vertical-align: middle;\n",
              "    }\n",
              "\n",
              "    .dataframe tbody tr th {\n",
              "        vertical-align: top;\n",
              "    }\n",
              "\n",
              "    .dataframe thead th {\n",
              "        text-align: right;\n",
              "    }\n",
              "</style>\n",
              "<table border=\"1\" class=\"dataframe\">\n",
              "  <thead>\n",
              "    <tr style=\"text-align: right;\">\n",
              "      <th></th>\n",
              "      <th>vendas</th>\n",
              "      <th>acessos</th>\n",
              "      <th>data</th>\n",
              "      <th>gmv</th>\n",
              "      <th>tipo</th>\n",
              "      <th>parceiro</th>\n",
              "    </tr>\n",
              "  </thead>\n",
              "  <tbody>\n",
              "    <tr>\n",
              "      <th>0</th>\n",
              "      <td>1</td>\n",
              "      <td>1</td>\n",
              "      <td>2019-01-01</td>\n",
              "      <td>7.11</td>\n",
              "      <td>Padrão</td>\n",
              "      <td>parceiro539</td>\n",
              "    </tr>\n",
              "    <tr>\n",
              "      <th>1</th>\n",
              "      <td>1</td>\n",
              "      <td>1</td>\n",
              "      <td>2019-01-01</td>\n",
              "      <td>29.88</td>\n",
              "      <td>Padrão</td>\n",
              "      <td>parceiro236</td>\n",
              "    </tr>\n",
              "    <tr>\n",
              "      <th>2</th>\n",
              "      <td>1</td>\n",
              "      <td>1</td>\n",
              "      <td>2019-01-01</td>\n",
              "      <td>10.82</td>\n",
              "      <td>Padrão</td>\n",
              "      <td>parceiro100</td>\n",
              "    </tr>\n",
              "    <tr>\n",
              "      <th>3</th>\n",
              "      <td>1</td>\n",
              "      <td>1</td>\n",
              "      <td>2019-01-01</td>\n",
              "      <td>6.94</td>\n",
              "      <td>Padrão</td>\n",
              "      <td>parceiro507</td>\n",
              "    </tr>\n",
              "    <tr>\n",
              "      <th>4</th>\n",
              "      <td>1</td>\n",
              "      <td>1</td>\n",
              "      <td>2019-01-01</td>\n",
              "      <td>6.66</td>\n",
              "      <td>Padrão</td>\n",
              "      <td>parceiro427</td>\n",
              "    </tr>\n",
              "    <tr>\n",
              "      <th>5</th>\n",
              "      <td>1</td>\n",
              "      <td>1</td>\n",
              "      <td>2019-01-01</td>\n",
              "      <td>82.52</td>\n",
              "      <td>Padrão</td>\n",
              "      <td>parceiro102</td>\n",
              "    </tr>\n",
              "    <tr>\n",
              "      <th>6</th>\n",
              "      <td>1</td>\n",
              "      <td>1</td>\n",
              "      <td>2019-01-01</td>\n",
              "      <td>371.43</td>\n",
              "      <td>Padrão</td>\n",
              "      <td>parceiro238</td>\n",
              "    </tr>\n",
              "    <tr>\n",
              "      <th>7</th>\n",
              "      <td>1</td>\n",
              "      <td>1</td>\n",
              "      <td>2019-01-01</td>\n",
              "      <td>41.51</td>\n",
              "      <td>Padrão</td>\n",
              "      <td>parceiro103</td>\n",
              "    </tr>\n",
              "    <tr>\n",
              "      <th>8</th>\n",
              "      <td>1</td>\n",
              "      <td>1</td>\n",
              "      <td>2019-01-01</td>\n",
              "      <td>33.31</td>\n",
              "      <td>Padrão</td>\n",
              "      <td>parceiro606</td>\n",
              "    </tr>\n",
              "    <tr>\n",
              "      <th>9</th>\n",
              "      <td>1</td>\n",
              "      <td>1</td>\n",
              "      <td>2019-01-01</td>\n",
              "      <td>19.45</td>\n",
              "      <td>Padrão</td>\n",
              "      <td>parceiro428</td>\n",
              "    </tr>\n",
              "  </tbody>\n",
              "</table>\n",
              "</div>\n",
              "      <button class=\"colab-df-convert\" onclick=\"convertToInteractive('df-1475e1af-e4cd-4193-9a11-5064a821e4ed')\"\n",
              "              title=\"Convert this dataframe to an interactive table.\"\n",
              "              style=\"display:none;\">\n",
              "        \n",
              "  <svg xmlns=\"http://www.w3.org/2000/svg\" height=\"24px\"viewBox=\"0 0 24 24\"\n",
              "       width=\"24px\">\n",
              "    <path d=\"M0 0h24v24H0V0z\" fill=\"none\"/>\n",
              "    <path d=\"M18.56 5.44l.94 2.06.94-2.06 2.06-.94-2.06-.94-.94-2.06-.94 2.06-2.06.94zm-11 1L8.5 8.5l.94-2.06 2.06-.94-2.06-.94L8.5 2.5l-.94 2.06-2.06.94zm10 10l.94 2.06.94-2.06 2.06-.94-2.06-.94-.94-2.06-.94 2.06-2.06.94z\"/><path d=\"M17.41 7.96l-1.37-1.37c-.4-.4-.92-.59-1.43-.59-.52 0-1.04.2-1.43.59L10.3 9.45l-7.72 7.72c-.78.78-.78 2.05 0 2.83L4 21.41c.39.39.9.59 1.41.59.51 0 1.02-.2 1.41-.59l7.78-7.78 2.81-2.81c.8-.78.8-2.07 0-2.86zM5.41 20L4 18.59l7.72-7.72 1.47 1.35L5.41 20z\"/>\n",
              "  </svg>\n",
              "      </button>\n",
              "      \n",
              "  <style>\n",
              "    .colab-df-container {\n",
              "      display:flex;\n",
              "      flex-wrap:wrap;\n",
              "      gap: 12px;\n",
              "    }\n",
              "\n",
              "    .colab-df-convert {\n",
              "      background-color: #E8F0FE;\n",
              "      border: none;\n",
              "      border-radius: 50%;\n",
              "      cursor: pointer;\n",
              "      display: none;\n",
              "      fill: #1967D2;\n",
              "      height: 32px;\n",
              "      padding: 0 0 0 0;\n",
              "      width: 32px;\n",
              "    }\n",
              "\n",
              "    .colab-df-convert:hover {\n",
              "      background-color: #E2EBFA;\n",
              "      box-shadow: 0px 1px 2px rgba(60, 64, 67, 0.3), 0px 1px 3px 1px rgba(60, 64, 67, 0.15);\n",
              "      fill: #174EA6;\n",
              "    }\n",
              "\n",
              "    [theme=dark] .colab-df-convert {\n",
              "      background-color: #3B4455;\n",
              "      fill: #D2E3FC;\n",
              "    }\n",
              "\n",
              "    [theme=dark] .colab-df-convert:hover {\n",
              "      background-color: #434B5C;\n",
              "      box-shadow: 0px 1px 3px 1px rgba(0, 0, 0, 0.15);\n",
              "      filter: drop-shadow(0px 1px 2px rgba(0, 0, 0, 0.3));\n",
              "      fill: #FFFFFF;\n",
              "    }\n",
              "  </style>\n",
              "\n",
              "      <script>\n",
              "        const buttonEl =\n",
              "          document.querySelector('#df-1475e1af-e4cd-4193-9a11-5064a821e4ed button.colab-df-convert');\n",
              "        buttonEl.style.display =\n",
              "          google.colab.kernel.accessAllowed ? 'block' : 'none';\n",
              "\n",
              "        async function convertToInteractive(key) {\n",
              "          const element = document.querySelector('#df-1475e1af-e4cd-4193-9a11-5064a821e4ed');\n",
              "          const dataTable =\n",
              "            await google.colab.kernel.invokeFunction('convertToInteractive',\n",
              "                                                     [key], {});\n",
              "          if (!dataTable) return;\n",
              "\n",
              "          const docLinkHtml = 'Like what you see? Visit the ' +\n",
              "            '<a target=\"_blank\" href=https://colab.research.google.com/notebooks/data_table.ipynb>data table notebook</a>'\n",
              "            + ' to learn more about interactive tables.';\n",
              "          element.innerHTML = '';\n",
              "          dataTable['output_type'] = 'display_data';\n",
              "          await google.colab.output.renderOutput(dataTable, element);\n",
              "          const docLink = document.createElement('div');\n",
              "          docLink.innerHTML = docLinkHtml;\n",
              "          element.appendChild(docLink);\n",
              "        }\n",
              "      </script>\n",
              "    </div>\n",
              "  </div>\n",
              "  "
            ],
            "text/plain": [
              "   vendas  acessos       data     gmv    tipo     parceiro\n",
              "0       1        1 2019-01-01    7.11  Padrão  parceiro539\n",
              "1       1        1 2019-01-01   29.88  Padrão  parceiro236\n",
              "2       1        1 2019-01-01   10.82  Padrão  parceiro100\n",
              "3       1        1 2019-01-01    6.94  Padrão  parceiro507\n",
              "4       1        1 2019-01-01    6.66  Padrão  parceiro427\n",
              "5       1        1 2019-01-01   82.52  Padrão  parceiro102\n",
              "6       1        1 2019-01-01  371.43  Padrão  parceiro238\n",
              "7       1        1 2019-01-01   41.51  Padrão  parceiro103\n",
              "8       1        1 2019-01-01   33.31  Padrão  parceiro606\n",
              "9       1        1 2019-01-01   19.45  Padrão  parceiro428"
            ]
          },
          "metadata": {}
        },
        {
          "output_type": "stream",
          "name": "stdout",
          "text": [
            "\n",
            "\n",
            " Número de linhas: 33295\n"
          ]
        }
      ]
    },
    {
      "cell_type": "markdown",
      "metadata": {
        "id": "CldezTNlZBM6"
      },
      "source": [
        "**Quantidade de lojas na base de dados**"
      ]
    },
    {
      "cell_type": "code",
      "metadata": {
        "id": "VLygTAAvb20O",
        "colab": {
          "base_uri": "https://localhost:8080/"
        },
        "outputId": "286a3395-2344-4243-d888-3c3179162ea6"
      },
      "source": [
        "\n",
        "# Inicialmente, deve-se encontrar a quantiadade de lojas existentes na base, \n",
        "# ou seja verificar a coluna 'parceiro' sem repetição. Feito isso, deve-se contar\n",
        "# o tamanho do dataframe refetente à consulta. Neste caso foi utilizado o método 'len'.\n",
        "# Resposta: 621 lojas parceiras\n",
        "\n",
        "qtdeLojas = len(df['parceiro'].unique())\n",
        "qtdeLojas"
      ],
      "execution_count": 4,
      "outputs": [
        {
          "output_type": "execute_result",
          "data": {
            "text/plain": [
              "621"
            ]
          },
          "metadata": {},
          "execution_count": 4
        }
      ]
    },
    {
      "cell_type": "markdown",
      "metadata": {
        "id": "8ElF4JHZu2RV"
      },
      "source": [
        "**Dia em que cada loja atingiu o maior número de vendas** "
      ]
    },
    {
      "cell_type": "code",
      "metadata": {
        "id": "Qcra0vxFvAFl",
        "colab": {
          "base_uri": "https://localhost:8080/",
          "height": 417
        },
        "outputId": "fbe70a0a-cc9b-4763-b7f9-19cba4deac9a"
      },
      "source": [
        "# Inicialmente, realizou-se o agrupamento de parceiros por meio do método 'groupby', que neste caso permite que sejam acessados os dados de cada loja de forma organizada.\n",
        "# A varíavel maxVendas contém o índice do valor máximo da coluna vendas para cada loja.\n",
        "# Com intuito de facilitar a visualização do resultado requerido, foi criado um subset do data frame contendo as colunas 'parceiro','data' e 'vendas'.\n",
        "\n",
        "maxVendas = df.loc[df.reset_index().groupby(['parceiro'],sort=False)['vendas'].idxmax()]\n",
        "subSet = maxVendas[['parceiro','data','vendas']].sort_values(by=['parceiro'])\n",
        "subSet\n"
      ],
      "execution_count": null,
      "outputs": [
        {
          "output_type": "execute_result",
          "data": {
            "text/html": [
              "<div>\n",
              "<style scoped>\n",
              "    .dataframe tbody tr th:only-of-type {\n",
              "        vertical-align: middle;\n",
              "    }\n",
              "\n",
              "    .dataframe tbody tr th {\n",
              "        vertical-align: top;\n",
              "    }\n",
              "\n",
              "    .dataframe thead th {\n",
              "        text-align: right;\n",
              "    }\n",
              "</style>\n",
              "<table border=\"1\" class=\"dataframe\">\n",
              "  <thead>\n",
              "    <tr style=\"text-align: right;\">\n",
              "      <th></th>\n",
              "      <th>parceiro</th>\n",
              "      <th>data</th>\n",
              "      <th>vendas</th>\n",
              "    </tr>\n",
              "  </thead>\n",
              "  <tbody>\n",
              "    <tr>\n",
              "      <th>30784</th>\n",
              "      <td>parceiro1</td>\n",
              "      <td>2019-01-09</td>\n",
              "      <td>4</td>\n",
              "    </tr>\n",
              "    <tr>\n",
              "      <th>595</th>\n",
              "      <td>parceiro10</td>\n",
              "      <td>2019-01-06</td>\n",
              "      <td>1</td>\n",
              "    </tr>\n",
              "    <tr>\n",
              "      <th>2</th>\n",
              "      <td>parceiro100</td>\n",
              "      <td>2019-01-01</td>\n",
              "      <td>1</td>\n",
              "    </tr>\n",
              "    <tr>\n",
              "      <th>33294</th>\n",
              "      <td>parceiro101</td>\n",
              "      <td>2019-04-15</td>\n",
              "      <td>217</td>\n",
              "    </tr>\n",
              "    <tr>\n",
              "      <th>5</th>\n",
              "      <td>parceiro102</td>\n",
              "      <td>2019-01-01</td>\n",
              "      <td>1</td>\n",
              "    </tr>\n",
              "    <tr>\n",
              "      <th>...</th>\n",
              "      <td>...</td>\n",
              "      <td>...</td>\n",
              "      <td>...</td>\n",
              "    </tr>\n",
              "    <tr>\n",
              "      <th>12979</th>\n",
              "      <td>parceiro95</td>\n",
              "      <td>2019-04-19</td>\n",
              "      <td>1</td>\n",
              "    </tr>\n",
              "    <tr>\n",
              "      <th>13384</th>\n",
              "      <td>parceiro96</td>\n",
              "      <td>2019-04-23</td>\n",
              "      <td>1</td>\n",
              "    </tr>\n",
              "    <tr>\n",
              "      <th>13412</th>\n",
              "      <td>parceiro97</td>\n",
              "      <td>2019-04-23</td>\n",
              "      <td>1</td>\n",
              "    </tr>\n",
              "    <tr>\n",
              "      <th>32515</th>\n",
              "      <td>parceiro98</td>\n",
              "      <td>2019-04-08</td>\n",
              "      <td>11</td>\n",
              "    </tr>\n",
              "    <tr>\n",
              "      <th>28377</th>\n",
              "      <td>parceiro99</td>\n",
              "      <td>2019-04-02</td>\n",
              "      <td>2</td>\n",
              "    </tr>\n",
              "  </tbody>\n",
              "</table>\n",
              "<p>621 rows × 3 columns</p>\n",
              "</div>"
            ],
            "text/plain": [
              "          parceiro       data  vendas\n",
              "30784    parceiro1 2019-01-09       4\n",
              "595     parceiro10 2019-01-06       1\n",
              "2      parceiro100 2019-01-01       1\n",
              "33294  parceiro101 2019-04-15     217\n",
              "5      parceiro102 2019-01-01       1\n",
              "...            ...        ...     ...\n",
              "12979   parceiro95 2019-04-19       1\n",
              "13384   parceiro96 2019-04-23       1\n",
              "13412   parceiro97 2019-04-23       1\n",
              "32515   parceiro98 2019-04-08      11\n",
              "28377   parceiro99 2019-04-02       2\n",
              "\n",
              "[621 rows x 3 columns]"
            ]
          },
          "metadata": {
            "tags": []
          },
          "execution_count": 4
        }
      ]
    },
    {
      "cell_type": "markdown",
      "metadata": {
        "id": "fXd81A6-Yuhj"
      },
      "source": [
        "**Conversão média de cada loja no mês de abril**"
      ]
    },
    {
      "cell_type": "code",
      "metadata": {
        "colab": {
          "base_uri": "https://localhost:8080/",
          "height": 417
        },
        "id": "k_-mbWjjZIfz",
        "outputId": "f7ee46e8-0115-47a6-eea7-7ac2c90576ac"
      },
      "source": [
        "# conversão = compras/acesso\n",
        "# Inicialmente, seleciona-se apenas os dados referentes ao mês de Abril e é criada uma cópia deste data frame\n",
        "# Feito isso, o cálculo de conversão diária é realizado (vendas/acessos) e em seguida é feita a média para cada parceiro.\n",
        "# O processo foi colocado em uma função chamada calculaConversaoMedia para facilitar cálculos posteriores.\n",
        "\n",
        "def calculaConversaoMedia(df,mes):\n",
        "  idxMes = pd.DatetimeIndex(df['data']).month==mes\n",
        "  dfMes= df[idxMes].copy()\n",
        "  conversao = dfMes['vendas']/dfMes['acessos']\n",
        "  dfMes['conversao'] = conversao\n",
        "  dfConvMediaMes = dfMes.groupby('parceiro',sort=False).mean().reset_index()[['parceiro','conversao']]\n",
        "  return dfConvMediaMes\n",
        "\n",
        "dfConvMediaAbril = calculaConversaoMedia(df,4)\n",
        "dfConvMediaAbril\n",
        "\n",
        "\n",
        "\n"
      ],
      "execution_count": null,
      "outputs": [
        {
          "output_type": "execute_result",
          "data": {
            "text/html": [
              "<div>\n",
              "<style scoped>\n",
              "    .dataframe tbody tr th:only-of-type {\n",
              "        vertical-align: middle;\n",
              "    }\n",
              "\n",
              "    .dataframe tbody tr th {\n",
              "        vertical-align: top;\n",
              "    }\n",
              "\n",
              "    .dataframe thead th {\n",
              "        text-align: right;\n",
              "    }\n",
              "</style>\n",
              "<table border=\"1\" class=\"dataframe\">\n",
              "  <thead>\n",
              "    <tr style=\"text-align: right;\">\n",
              "      <th></th>\n",
              "      <th>parceiro</th>\n",
              "      <th>conversao</th>\n",
              "    </tr>\n",
              "  </thead>\n",
              "  <tbody>\n",
              "    <tr>\n",
              "      <th>0</th>\n",
              "      <td>parceiro562</td>\n",
              "      <td>1.000000</td>\n",
              "    </tr>\n",
              "    <tr>\n",
              "      <th>1</th>\n",
              "      <td>parceiro324</td>\n",
              "      <td>1.000000</td>\n",
              "    </tr>\n",
              "    <tr>\n",
              "      <th>2</th>\n",
              "      <td>parceiro424</td>\n",
              "      <td>1.000000</td>\n",
              "    </tr>\n",
              "    <tr>\n",
              "      <th>3</th>\n",
              "      <td>parceiro327</td>\n",
              "      <td>1.000000</td>\n",
              "    </tr>\n",
              "    <tr>\n",
              "      <th>4</th>\n",
              "      <td>parceiro118</td>\n",
              "      <td>1.000000</td>\n",
              "    </tr>\n",
              "    <tr>\n",
              "      <th>...</th>\n",
              "      <td>...</td>\n",
              "      <td>...</td>\n",
              "    </tr>\n",
              "    <tr>\n",
              "      <th>480</th>\n",
              "      <td>parceiro233</td>\n",
              "      <td>0.114320</td>\n",
              "    </tr>\n",
              "    <tr>\n",
              "      <th>481</th>\n",
              "      <td>parceiro290</td>\n",
              "      <td>0.106531</td>\n",
              "    </tr>\n",
              "    <tr>\n",
              "      <th>482</th>\n",
              "      <td>parceiro101</td>\n",
              "      <td>0.161069</td>\n",
              "    </tr>\n",
              "    <tr>\n",
              "      <th>483</th>\n",
              "      <td>parceiro345</td>\n",
              "      <td>0.125969</td>\n",
              "    </tr>\n",
              "    <tr>\n",
              "      <th>484</th>\n",
              "      <td>parceiro353</td>\n",
              "      <td>0.367075</td>\n",
              "    </tr>\n",
              "  </tbody>\n",
              "</table>\n",
              "<p>485 rows × 2 columns</p>\n",
              "</div>"
            ],
            "text/plain": [
              "        parceiro  conversao\n",
              "0    parceiro562   1.000000\n",
              "1    parceiro324   1.000000\n",
              "2    parceiro424   1.000000\n",
              "3    parceiro327   1.000000\n",
              "4    parceiro118   1.000000\n",
              "..           ...        ...\n",
              "480  parceiro233   0.114320\n",
              "481  parceiro290   0.106531\n",
              "482  parceiro101   0.161069\n",
              "483  parceiro345   0.125969\n",
              "484  parceiro353   0.367075\n",
              "\n",
              "[485 rows x 2 columns]"
            ]
          },
          "metadata": {
            "tags": []
          },
          "execution_count": 63
        }
      ]
    },
    {
      "cell_type": "markdown",
      "metadata": {
        "id": "YgUWB_lfhEZT"
      },
      "source": [
        "**Conversão média de cada loja no mês de maio**"
      ]
    },
    {
      "cell_type": "code",
      "metadata": {
        "colab": {
          "base_uri": "https://localhost:8080/",
          "height": 417
        },
        "id": "fUyKy8cVhMWx",
        "outputId": "bc387efa-a5d3-4fd1-a6d5-447629bdc306"
      },
      "source": [
        "# utilizando a função calculaConversaoMedia feita na questão anterior, tem-se a conversão média do mês de maio.\n",
        "dfConvMediaMaio = calculaConversaoMedia(df,5)\n",
        "dfConvMediaMaio\n"
      ],
      "execution_count": null,
      "outputs": [
        {
          "output_type": "execute_result",
          "data": {
            "text/html": [
              "<div>\n",
              "<style scoped>\n",
              "    .dataframe tbody tr th:only-of-type {\n",
              "        vertical-align: middle;\n",
              "    }\n",
              "\n",
              "    .dataframe tbody tr th {\n",
              "        vertical-align: top;\n",
              "    }\n",
              "\n",
              "    .dataframe thead th {\n",
              "        text-align: right;\n",
              "    }\n",
              "</style>\n",
              "<table border=\"1\" class=\"dataframe\">\n",
              "  <thead>\n",
              "    <tr style=\"text-align: right;\">\n",
              "      <th></th>\n",
              "      <th>parceiro</th>\n",
              "      <th>conversao</th>\n",
              "    </tr>\n",
              "  </thead>\n",
              "  <tbody>\n",
              "    <tr>\n",
              "      <th>0</th>\n",
              "      <td>parceiro267</td>\n",
              "      <td>0.833333</td>\n",
              "    </tr>\n",
              "    <tr>\n",
              "      <th>1</th>\n",
              "      <td>parceiro424</td>\n",
              "      <td>1.000000</td>\n",
              "    </tr>\n",
              "    <tr>\n",
              "      <th>2</th>\n",
              "      <td>parceiro119</td>\n",
              "      <td>1.000000</td>\n",
              "    </tr>\n",
              "    <tr>\n",
              "      <th>3</th>\n",
              "      <td>parceiro427</td>\n",
              "      <td>0.958333</td>\n",
              "    </tr>\n",
              "    <tr>\n",
              "      <th>4</th>\n",
              "      <td>parceiro606</td>\n",
              "      <td>1.000000</td>\n",
              "    </tr>\n",
              "    <tr>\n",
              "      <th>...</th>\n",
              "      <td>...</td>\n",
              "      <td>...</td>\n",
              "    </tr>\n",
              "    <tr>\n",
              "      <th>435</th>\n",
              "      <td>parceiro233</td>\n",
              "      <td>0.126010</td>\n",
              "    </tr>\n",
              "    <tr>\n",
              "      <th>436</th>\n",
              "      <td>parceiro290</td>\n",
              "      <td>0.100821</td>\n",
              "    </tr>\n",
              "    <tr>\n",
              "      <th>437</th>\n",
              "      <td>parceiro353</td>\n",
              "      <td>0.347708</td>\n",
              "    </tr>\n",
              "    <tr>\n",
              "      <th>438</th>\n",
              "      <td>parceiro345</td>\n",
              "      <td>0.110534</td>\n",
              "    </tr>\n",
              "    <tr>\n",
              "      <th>439</th>\n",
              "      <td>parceiro101</td>\n",
              "      <td>0.162135</td>\n",
              "    </tr>\n",
              "  </tbody>\n",
              "</table>\n",
              "<p>440 rows × 2 columns</p>\n",
              "</div>"
            ],
            "text/plain": [
              "        parceiro  conversao\n",
              "0    parceiro267   0.833333\n",
              "1    parceiro424   1.000000\n",
              "2    parceiro119   1.000000\n",
              "3    parceiro427   0.958333\n",
              "4    parceiro606   1.000000\n",
              "..           ...        ...\n",
              "435  parceiro233   0.126010\n",
              "436  parceiro290   0.100821\n",
              "437  parceiro353   0.347708\n",
              "438  parceiro345   0.110534\n",
              "439  parceiro101   0.162135\n",
              "\n",
              "[440 rows x 2 columns]"
            ]
          },
          "metadata": {
            "tags": []
          },
          "execution_count": 64
        }
      ]
    },
    {
      "cell_type": "markdown",
      "metadata": {
        "id": "mVQqSqh1iY_T"
      },
      "source": [
        "**Variação na conversão média, considerando-se os meses de maio e abril?**"
      ]
    },
    {
      "cell_type": "code",
      "metadata": {
        "colab": {
          "base_uri": "https://localhost:8080/",
          "height": 417
        },
        "id": "lnEnGX6litTC",
        "outputId": "cea2f39a-4cea-495d-9897-bda90cc65ff5"
      },
      "source": [
        "# Inicialmente, é feito o join entre os dataframes que contém as conversões médias dos meses de Maio e Abril. \n",
        "# As lojas que não se repetem no mês subsequente têm o valor de conversão 0 atribuído\n",
        "# O cálculo da variação foi feito pela subtração da conversão de Maio com a de Abril\n",
        "\n",
        "dfVariacao = pd.merge(dfConvMediaAbril, dfConvMediaMaio, on='parceiro', how='outer',suffixes=('_Abril', '_Maio')).fillna(0)\n",
        "dfVariacao['variacao'] = dfVariacao['conversao_Maio'] - dfVariacao['conversao_Abril']\n",
        "dfVariacao\n",
        "\n"
      ],
      "execution_count": null,
      "outputs": [
        {
          "output_type": "execute_result",
          "data": {
            "text/html": [
              "<div>\n",
              "<style scoped>\n",
              "    .dataframe tbody tr th:only-of-type {\n",
              "        vertical-align: middle;\n",
              "    }\n",
              "\n",
              "    .dataframe tbody tr th {\n",
              "        vertical-align: top;\n",
              "    }\n",
              "\n",
              "    .dataframe thead th {\n",
              "        text-align: right;\n",
              "    }\n",
              "</style>\n",
              "<table border=\"1\" class=\"dataframe\">\n",
              "  <thead>\n",
              "    <tr style=\"text-align: right;\">\n",
              "      <th></th>\n",
              "      <th>parceiro</th>\n",
              "      <th>conversao_Abril</th>\n",
              "      <th>conversao_Maio</th>\n",
              "      <th>variacao</th>\n",
              "    </tr>\n",
              "  </thead>\n",
              "  <tbody>\n",
              "    <tr>\n",
              "      <th>0</th>\n",
              "      <td>parceiro562</td>\n",
              "      <td>1.0</td>\n",
              "      <td>1.00</td>\n",
              "      <td>0.00</td>\n",
              "    </tr>\n",
              "    <tr>\n",
              "      <th>1</th>\n",
              "      <td>parceiro324</td>\n",
              "      <td>1.0</td>\n",
              "      <td>1.00</td>\n",
              "      <td>0.00</td>\n",
              "    </tr>\n",
              "    <tr>\n",
              "      <th>2</th>\n",
              "      <td>parceiro424</td>\n",
              "      <td>1.0</td>\n",
              "      <td>1.00</td>\n",
              "      <td>0.00</td>\n",
              "    </tr>\n",
              "    <tr>\n",
              "      <th>3</th>\n",
              "      <td>parceiro327</td>\n",
              "      <td>1.0</td>\n",
              "      <td>0.00</td>\n",
              "      <td>-1.00</td>\n",
              "    </tr>\n",
              "    <tr>\n",
              "      <th>4</th>\n",
              "      <td>parceiro118</td>\n",
              "      <td>1.0</td>\n",
              "      <td>1.00</td>\n",
              "      <td>0.00</td>\n",
              "    </tr>\n",
              "    <tr>\n",
              "      <th>...</th>\n",
              "      <td>...</td>\n",
              "      <td>...</td>\n",
              "      <td>...</td>\n",
              "      <td>...</td>\n",
              "    </tr>\n",
              "    <tr>\n",
              "      <th>506</th>\n",
              "      <td>parceiro148</td>\n",
              "      <td>0.0</td>\n",
              "      <td>1.00</td>\n",
              "      <td>1.00</td>\n",
              "    </tr>\n",
              "    <tr>\n",
              "      <th>507</th>\n",
              "      <td>parceiro574</td>\n",
              "      <td>0.0</td>\n",
              "      <td>1.00</td>\n",
              "      <td>1.00</td>\n",
              "    </tr>\n",
              "    <tr>\n",
              "      <th>508</th>\n",
              "      <td>parceiro464</td>\n",
              "      <td>0.0</td>\n",
              "      <td>1.00</td>\n",
              "      <td>1.00</td>\n",
              "    </tr>\n",
              "    <tr>\n",
              "      <th>509</th>\n",
              "      <td>parceiro231</td>\n",
              "      <td>0.0</td>\n",
              "      <td>1.00</td>\n",
              "      <td>1.00</td>\n",
              "    </tr>\n",
              "    <tr>\n",
              "      <th>510</th>\n",
              "      <td>parceiro505</td>\n",
              "      <td>0.0</td>\n",
              "      <td>0.25</td>\n",
              "      <td>0.25</td>\n",
              "    </tr>\n",
              "  </tbody>\n",
              "</table>\n",
              "<p>511 rows × 4 columns</p>\n",
              "</div>"
            ],
            "text/plain": [
              "        parceiro  conversao_Abril  conversao_Maio  variacao\n",
              "0    parceiro562              1.0            1.00      0.00\n",
              "1    parceiro324              1.0            1.00      0.00\n",
              "2    parceiro424              1.0            1.00      0.00\n",
              "3    parceiro327              1.0            0.00     -1.00\n",
              "4    parceiro118              1.0            1.00      0.00\n",
              "..           ...              ...             ...       ...\n",
              "506  parceiro148              0.0            1.00      1.00\n",
              "507  parceiro574              0.0            1.00      1.00\n",
              "508  parceiro464              0.0            1.00      1.00\n",
              "509  parceiro231              0.0            1.00      1.00\n",
              "510  parceiro505              0.0            0.25      0.25\n",
              "\n",
              "[511 rows x 4 columns]"
            ]
          },
          "metadata": {
            "tags": []
          },
          "execution_count": 65
        }
      ]
    },
    {
      "cell_type": "markdown",
      "metadata": {
        "id": "hHEIK_Zcn3ky"
      },
      "source": [
        "**GMV total gerado por mês**"
      ]
    },
    {
      "cell_type": "code",
      "metadata": {
        "colab": {
          "base_uri": "https://localhost:8080/",
          "height": 203
        },
        "id": "w5tCLyqGoAaI",
        "outputId": "e4c9b2b1-7c66-4786-a1b4-35e1ed2d4af7"
      },
      "source": [
        "# Primeiramente, é criado um dataframe contendo os meses de referência e o valor de gmv. Feito isso, os meses são agrupados e é realizada a soma de gmv mensalmente.\n",
        "\n",
        "dfGmv = df[['data','gmv']].copy()\n",
        "dfGmv['mes'] = pd.DatetimeIndex(df['data']).month\n",
        "dfGmv = dfGmv.groupby('mes',sort=False).sum().reset_index()\n",
        "dfGmv\n"
      ],
      "execution_count": null,
      "outputs": [
        {
          "output_type": "execute_result",
          "data": {
            "text/html": [
              "<div>\n",
              "<style scoped>\n",
              "    .dataframe tbody tr th:only-of-type {\n",
              "        vertical-align: middle;\n",
              "    }\n",
              "\n",
              "    .dataframe tbody tr th {\n",
              "        vertical-align: top;\n",
              "    }\n",
              "\n",
              "    .dataframe thead th {\n",
              "        text-align: right;\n",
              "    }\n",
              "</style>\n",
              "<table border=\"1\" class=\"dataframe\">\n",
              "  <thead>\n",
              "    <tr style=\"text-align: right;\">\n",
              "      <th></th>\n",
              "      <th>mes</th>\n",
              "      <th>gmv</th>\n",
              "    </tr>\n",
              "  </thead>\n",
              "  <tbody>\n",
              "    <tr>\n",
              "      <th>0</th>\n",
              "      <td>1</td>\n",
              "      <td>3913206.83</td>\n",
              "    </tr>\n",
              "    <tr>\n",
              "      <th>1</th>\n",
              "      <td>2</td>\n",
              "      <td>3476037.72</td>\n",
              "    </tr>\n",
              "    <tr>\n",
              "      <th>2</th>\n",
              "      <td>3</td>\n",
              "      <td>4652308.91</td>\n",
              "    </tr>\n",
              "    <tr>\n",
              "      <th>3</th>\n",
              "      <td>4</td>\n",
              "      <td>4294167.82</td>\n",
              "    </tr>\n",
              "    <tr>\n",
              "      <th>4</th>\n",
              "      <td>5</td>\n",
              "      <td>2317124.82</td>\n",
              "    </tr>\n",
              "  </tbody>\n",
              "</table>\n",
              "</div>"
            ],
            "text/plain": [
              "   mes         gmv\n",
              "0    1  3913206.83\n",
              "1    2  3476037.72\n",
              "2    3  4652308.91\n",
              "3    4  4294167.82\n",
              "4    5  2317124.82"
            ]
          },
          "metadata": {
            "tags": []
          },
          "execution_count": 66
        }
      ]
    },
    {
      "cell_type": "markdown",
      "metadata": {
        "id": "BIUbVLTMtC_K"
      },
      "source": [
        "**GMV acumulado entre 18/02/2019 e 20/04/2019?** "
      ]
    },
    {
      "cell_type": "code",
      "metadata": {
        "colab": {
          "base_uri": "https://localhost:8080/"
        },
        "id": "vBtgQG4atOsM",
        "outputId": "0fefac5d-6f2d-4e2f-aa8c-fc243d25fc85"
      },
      "source": [
        "# Inicialmente, é selecionado o intervalo em que se deseja observar os dados. Tal intervalo é passado como índice de um novo dataframe e em seguida é feita a soma dos valores de gmv\n",
        "intervalo = (df['data'] > '2019-02-18') & (df['data'] <= '2019-04-20')\n",
        "dfIntervalo = df.loc[intervalo]\n",
        "dfIntervalo['gmv'].sum()\n"
      ],
      "execution_count": null,
      "outputs": [
        {
          "output_type": "execute_result",
          "data": {
            "text/plain": [
              "8854145.93"
            ]
          },
          "metadata": {
            "tags": []
          },
          "execution_count": 67
        }
      ]
    },
    {
      "cell_type": "markdown",
      "metadata": {
        "id": "WJD5jAufwW7w"
      },
      "source": [
        "**Quais lojas tiveram vendas tipo promocionais**"
      ]
    },
    {
      "cell_type": "code",
      "metadata": {
        "colab": {
          "base_uri": "https://localhost:8080/"
        },
        "id": "szMBWWmzwcM2",
        "outputId": "1a797642-65be-4112-ce86-8f44e0e39ed7"
      },
      "source": [
        "# Inicialmente, são selecionados os registros que contém 'Promocial' como tipo de venda. Após isso, é verificado quais são os parceiros de tais vendas.\n",
        "\n",
        "indexP = df['tipo']== 'Promocional'\n",
        "dfP = df.loc[indexP]\n",
        "dfLojasP = dfP['parceiro'].unique()\n",
        "dfLojasP"
      ],
      "execution_count": null,
      "outputs": [
        {
          "output_type": "execute_result",
          "data": {
            "text/plain": [
              "array(['parceiro235', 'parceiro233', 'parceiro290', 'parceiro345',\n",
              "       'parceiro353'], dtype=object)"
            ]
          },
          "metadata": {
            "tags": []
          },
          "execution_count": 68
        }
      ]
    },
    {
      "cell_type": "markdown",
      "metadata": {
        "id": "4f4umkjzxzCI"
      },
      "source": [
        "**Quanto cada loja vendeu no período promocional**"
      ]
    },
    {
      "cell_type": "code",
      "metadata": {
        "colab": {
          "base_uri": "https://localhost:8080/",
          "height": 203
        },
        "id": "logMjHftx6Cf",
        "outputId": "8a2ecbb9-db35-4f5b-b284-9c9dda2e11a9"
      },
      "source": [
        "# Utilizando a variável dfP da questão 08 que contém os registros do período promocial foi feito o agrupamento por parceiro e em seguida a soma do número de vendas.\n",
        "dfP.groupby('parceiro',sort=False).sum().reset_index()[['parceiro','vendas']]\n"
      ],
      "execution_count": null,
      "outputs": [
        {
          "output_type": "execute_result",
          "data": {
            "text/html": [
              "<div>\n",
              "<style scoped>\n",
              "    .dataframe tbody tr th:only-of-type {\n",
              "        vertical-align: middle;\n",
              "    }\n",
              "\n",
              "    .dataframe tbody tr th {\n",
              "        vertical-align: top;\n",
              "    }\n",
              "\n",
              "    .dataframe thead th {\n",
              "        text-align: right;\n",
              "    }\n",
              "</style>\n",
              "<table border=\"1\" class=\"dataframe\">\n",
              "  <thead>\n",
              "    <tr style=\"text-align: right;\">\n",
              "      <th></th>\n",
              "      <th>parceiro</th>\n",
              "      <th>vendas</th>\n",
              "    </tr>\n",
              "  </thead>\n",
              "  <tbody>\n",
              "    <tr>\n",
              "      <th>0</th>\n",
              "      <td>parceiro235</td>\n",
              "      <td>63</td>\n",
              "    </tr>\n",
              "    <tr>\n",
              "      <th>1</th>\n",
              "      <td>parceiro233</td>\n",
              "      <td>225</td>\n",
              "    </tr>\n",
              "    <tr>\n",
              "      <th>2</th>\n",
              "      <td>parceiro290</td>\n",
              "      <td>310</td>\n",
              "    </tr>\n",
              "    <tr>\n",
              "      <th>3</th>\n",
              "      <td>parceiro345</td>\n",
              "      <td>461</td>\n",
              "    </tr>\n",
              "    <tr>\n",
              "      <th>4</th>\n",
              "      <td>parceiro353</td>\n",
              "      <td>1047</td>\n",
              "    </tr>\n",
              "  </tbody>\n",
              "</table>\n",
              "</div>"
            ],
            "text/plain": [
              "      parceiro  vendas\n",
              "0  parceiro235      63\n",
              "1  parceiro233     225\n",
              "2  parceiro290     310\n",
              "3  parceiro345     461\n",
              "4  parceiro353    1047"
            ]
          },
          "metadata": {
            "tags": []
          },
          "execution_count": 69
        }
      ]
    },
    {
      "cell_type": "markdown",
      "metadata": {
        "id": "Uq0PV0iAzj1I"
      },
      "source": [
        "**Período ocorreram as vendas promocionais**"
      ]
    },
    {
      "cell_type": "code",
      "metadata": {
        "colab": {
          "base_uri": "https://localhost:8080/"
        },
        "id": "8_tzuok4zrLX",
        "outputId": "76535643-f689-42ee-dff6-a1bb454cae37"
      },
      "source": [
        "# Utilizando novamente a variável dfP da questão 8, foi selecionado a data mínima e máxima do período promocional.\n",
        "periodoP = (dfP['data'].min(),dfP['data'].max())\n",
        "print(\"\\n\\n Período promocional: {} até {}\".format(periodoP[0],periodoP[1]))\n"
      ],
      "execution_count": null,
      "outputs": [
        {
          "output_type": "stream",
          "text": [
            "\n",
            "\n",
            " Período promocional: 2019-03-20 00:00:00 até 2019-03-31 00:00:00\n"
          ],
          "name": "stdout"
        }
      ]
    },
    {
      "cell_type": "markdown",
      "metadata": {
        "id": "OZfdJd_j1Uxn"
      },
      "source": [
        "**Outras informações extraídas da base**"
      ]
    },
    {
      "cell_type": "code",
      "metadata": {
        "colab": {
          "base_uri": "https://localhost:8080/",
          "height": 346
        },
        "id": "pllPLrrX4qg2",
        "outputId": "cb7f5a80-aed7-4ff3-d466-b2b45508e85c"
      },
      "source": [
        "# Uma informação interessante a ser extraída dos dados é a comparação entre um mês com período promocional e outro sem. Esta comparação auxilia a percepção de como o consumidor\n",
        "# se comporta com promoções e se as taxas de conversão podem estar ligadas a preços mais baixos de produtos. No histograma gerado abaixo, foram selecionadas as lojas que participaram \n",
        "# do período promocional para a comparação entre as conversões médias dos meses de março (com período promocional) e o mês de abril. As taxas de conversão são mais altas no mês de março,\n",
        "# indicando sensibilidade do consumidor à redução de preços. Porém, pode-observar que para alguns parceiros como o 235 e o 233, a diferença entre a conversão média de marco e abril é sutil,\n",
        "# podendo ser um indicativo de que o consumidor não considerou a promoção vantajosa suficiente para a realização da compra, por exemplo, o potencial consumidor foi atraído para o site, mas não \n",
        "# efetivou a compra. \n",
        "\n",
        "\n",
        "import matplotlib.pyplot as plt\n",
        "dfAvaliacao = df[df['parceiro'].isin(dfLojasP.ravel())]\n",
        "\n",
        "conversaoMediaMarco = calculaConversaoMedia(dfAvaliacao,3)\n",
        "conversaoMediaAbril = calculaConversaoMedia(dfAvaliacao,4)\n",
        "df2 = pd.merge(conversaoMediaMarco, conversaoMediaAbril,on='parceiro', how='outer',suffixes=('_Marco', '_Abril')).fillna(0)\n",
        "df2.set_index('parceiro').plot(kind=\"bar\")\n",
        "plt.ylabel(\"Conversao Media\")\n",
        "\n"
      ],
      "execution_count": null,
      "outputs": [
        {
          "output_type": "execute_result",
          "data": {
            "text/plain": [
              "Text(0, 0.5, 'Conversao Media')"
            ]
          },
          "metadata": {
            "tags": []
          },
          "execution_count": 98
        },
        {
          "output_type": "display_data",
          "data": {
            "image/png": "[encoded data removed]",
            "text/plain": [
              "<Figure size 432x288 with 1 Axes>"
            ]
          },
          "metadata": {
            "tags": [],
            "needs_background": "light"
          }
        }
      ]
    }
  ]
}